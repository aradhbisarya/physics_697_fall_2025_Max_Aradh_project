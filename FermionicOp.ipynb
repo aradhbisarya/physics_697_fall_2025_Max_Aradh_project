{
 "cells": [
  {
   "cell_type": "code",
   "execution_count": 2,
   "id": "a313baa9-f64e-491b-bfbc-f29cf48207bf",
   "metadata": {},
   "outputs": [
    {
     "name": "stdout",
     "output_type": "stream",
     "text": [
      "Requirement already satisfied: qiskit in /home/mglen/miniconda3/envs/qi_env/lib/python3.12/site-packages (1.2.1)\n",
      "Requirement already satisfied: rustworkx>=0.15.0 in /home/mglen/miniconda3/envs/qi_env/lib/python3.12/site-packages (from qiskit) (0.15.1)\n",
      "Requirement already satisfied: numpy<3,>=1.17 in /home/mglen/miniconda3/envs/qi_env/lib/python3.12/site-packages (from qiskit) (1.26.4)\n",
      "Requirement already satisfied: scipy>=1.5 in /home/mglen/miniconda3/envs/qi_env/lib/python3.12/site-packages (from qiskit) (1.14.1)\n",
      "Requirement already satisfied: sympy>=1.3 in /home/mglen/miniconda3/envs/qi_env/lib/python3.12/site-packages (from qiskit) (1.13.2)\n",
      "Requirement already satisfied: dill>=0.3 in /home/mglen/miniconda3/envs/qi_env/lib/python3.12/site-packages (from qiskit) (0.3.8)\n",
      "Requirement already satisfied: python-dateutil>=2.8.0 in /home/mglen/miniconda3/envs/qi_env/lib/python3.12/site-packages (from qiskit) (2.9.0.post0)\n",
      "Requirement already satisfied: stevedore>=3.0.0 in /home/mglen/miniconda3/envs/qi_env/lib/python3.12/site-packages (from qiskit) (5.3.0)\n",
      "Requirement already satisfied: typing-extensions in /home/mglen/miniconda3/envs/qi_env/lib/python3.12/site-packages (from qiskit) (4.14.1)\n",
      "Requirement already satisfied: symengine>=0.11 in /home/mglen/miniconda3/envs/qi_env/lib/python3.12/site-packages (from qiskit) (0.11.0)\n",
      "Requirement already satisfied: six>=1.5 in /home/mglen/miniconda3/envs/qi_env/lib/python3.12/site-packages (from python-dateutil>=2.8.0->qiskit) (1.16.0)\n",
      "Requirement already satisfied: pbr>=2.0.0 in /home/mglen/miniconda3/envs/qi_env/lib/python3.12/site-packages (from stevedore>=3.0.0->qiskit) (6.1.0)\n",
      "Requirement already satisfied: mpmath<1.4,>=1.1.0 in /home/mglen/miniconda3/envs/qi_env/lib/python3.12/site-packages (from sympy>=1.3->qiskit) (1.3.0)\n",
      "Note: you may need to restart the kernel to use updated packages.\n"
     ]
    }
   ],
   "source": [
    "pip install qiskit"
   ]
  },
  {
   "cell_type": "code",
   "execution_count": 3,
   "id": "17849edc-5a95-4644-a0e9-f4663d5082d4",
   "metadata": {},
   "outputs": [
    {
     "name": "stdout",
     "output_type": "stream",
     "text": [
      "Requirement already satisfied: qiskit-nature in /home/mglen/miniconda3/envs/qi_env/lib/python3.12/site-packages (0.7.2)\n",
      "Requirement already satisfied: qiskit>=0.44 in /home/mglen/miniconda3/envs/qi_env/lib/python3.12/site-packages (from qiskit-nature) (1.2.1)\n",
      "Requirement already satisfied: qiskit-algorithms>=0.2.1 in /home/mglen/miniconda3/envs/qi_env/lib/python3.12/site-packages (from qiskit-nature) (0.4.0)\n",
      "Requirement already satisfied: scipy>=1.4 in /home/mglen/miniconda3/envs/qi_env/lib/python3.12/site-packages (from qiskit-nature) (1.14.1)\n",
      "Requirement already satisfied: numpy>=1.17 in /home/mglen/miniconda3/envs/qi_env/lib/python3.12/site-packages (from qiskit-nature) (1.26.4)\n",
      "Requirement already satisfied: psutil>=5 in /home/mglen/miniconda3/envs/qi_env/lib/python3.12/site-packages (from qiskit-nature) (5.9.0)\n",
      "Requirement already satisfied: setuptools>=40.1.0 in /home/mglen/miniconda3/envs/qi_env/lib/python3.12/site-packages (from qiskit-nature) (72.1.0)\n",
      "Requirement already satisfied: typing-extensions in /home/mglen/miniconda3/envs/qi_env/lib/python3.12/site-packages (from qiskit-nature) (4.14.1)\n",
      "Requirement already satisfied: h5py in /home/mglen/miniconda3/envs/qi_env/lib/python3.12/site-packages (from qiskit-nature) (3.14.0)\n",
      "Requirement already satisfied: rustworkx>=0.12 in /home/mglen/miniconda3/envs/qi_env/lib/python3.12/site-packages (from qiskit-nature) (0.15.1)\n",
      "Requirement already satisfied: sympy>=1.3 in /home/mglen/miniconda3/envs/qi_env/lib/python3.12/site-packages (from qiskit>=0.44->qiskit-nature) (1.13.2)\n",
      "Requirement already satisfied: dill>=0.3 in /home/mglen/miniconda3/envs/qi_env/lib/python3.12/site-packages (from qiskit>=0.44->qiskit-nature) (0.3.8)\n",
      "Requirement already satisfied: python-dateutil>=2.8.0 in /home/mglen/miniconda3/envs/qi_env/lib/python3.12/site-packages (from qiskit>=0.44->qiskit-nature) (2.9.0.post0)\n",
      "Requirement already satisfied: stevedore>=3.0.0 in /home/mglen/miniconda3/envs/qi_env/lib/python3.12/site-packages (from qiskit>=0.44->qiskit-nature) (5.3.0)\n",
      "Requirement already satisfied: symengine>=0.11 in /home/mglen/miniconda3/envs/qi_env/lib/python3.12/site-packages (from qiskit>=0.44->qiskit-nature) (0.11.0)\n",
      "Requirement already satisfied: six>=1.5 in /home/mglen/miniconda3/envs/qi_env/lib/python3.12/site-packages (from python-dateutil>=2.8.0->qiskit>=0.44->qiskit-nature) (1.16.0)\n",
      "Requirement already satisfied: pbr>=2.0.0 in /home/mglen/miniconda3/envs/qi_env/lib/python3.12/site-packages (from stevedore>=3.0.0->qiskit>=0.44->qiskit-nature) (6.1.0)\n",
      "Requirement already satisfied: mpmath<1.4,>=1.1.0 in /home/mglen/miniconda3/envs/qi_env/lib/python3.12/site-packages (from sympy>=1.3->qiskit>=0.44->qiskit-nature) (1.3.0)\n",
      "Note: you may need to restart the kernel to use updated packages.\n"
     ]
    }
   ],
   "source": [
    "pip install qiskit-nature"
   ]
  },
  {
   "cell_type": "code",
   "execution_count": 4,
   "id": "cacf70a6-e698-4e3a-8fa9-85efe26cd950",
   "metadata": {},
   "outputs": [
    {
     "name": "stdout",
     "output_type": "stream",
     "text": [
      "Requirement already satisfied: qiskit-nature-pyscf in /home/mglen/miniconda3/envs/qi_env/lib/python3.12/site-packages (0.4.0)\n",
      "Requirement already satisfied: qiskit-nature>=0.7.1 in /home/mglen/miniconda3/envs/qi_env/lib/python3.12/site-packages (from qiskit-nature-pyscf) (0.7.2)\n",
      "Requirement already satisfied: pyscf>=2.0 in /home/mglen/miniconda3/envs/qi_env/lib/python3.12/site-packages (from qiskit-nature-pyscf) (2.10.0)\n",
      "Requirement already satisfied: numpy!=1.16,!=1.17,>=1.13 in /home/mglen/miniconda3/envs/qi_env/lib/python3.12/site-packages (from pyscf>=2.0->qiskit-nature-pyscf) (1.26.4)\n",
      "Requirement already satisfied: scipy>=1.6.0 in /home/mglen/miniconda3/envs/qi_env/lib/python3.12/site-packages (from pyscf>=2.0->qiskit-nature-pyscf) (1.14.1)\n",
      "Requirement already satisfied: h5py>=2.7 in /home/mglen/miniconda3/envs/qi_env/lib/python3.12/site-packages (from pyscf>=2.0->qiskit-nature-pyscf) (3.14.0)\n",
      "Requirement already satisfied: setuptools in /home/mglen/miniconda3/envs/qi_env/lib/python3.12/site-packages (from pyscf>=2.0->qiskit-nature-pyscf) (72.1.0)\n",
      "Requirement already satisfied: qiskit>=0.44 in /home/mglen/miniconda3/envs/qi_env/lib/python3.12/site-packages (from qiskit-nature>=0.7.1->qiskit-nature-pyscf) (1.2.1)\n",
      "Requirement already satisfied: qiskit-algorithms>=0.2.1 in /home/mglen/miniconda3/envs/qi_env/lib/python3.12/site-packages (from qiskit-nature>=0.7.1->qiskit-nature-pyscf) (0.4.0)\n",
      "Requirement already satisfied: psutil>=5 in /home/mglen/miniconda3/envs/qi_env/lib/python3.12/site-packages (from qiskit-nature>=0.7.1->qiskit-nature-pyscf) (5.9.0)\n",
      "Requirement already satisfied: typing-extensions in /home/mglen/miniconda3/envs/qi_env/lib/python3.12/site-packages (from qiskit-nature>=0.7.1->qiskit-nature-pyscf) (4.14.1)\n",
      "Requirement already satisfied: rustworkx>=0.12 in /home/mglen/miniconda3/envs/qi_env/lib/python3.12/site-packages (from qiskit-nature>=0.7.1->qiskit-nature-pyscf) (0.15.1)\n",
      "Requirement already satisfied: sympy>=1.3 in /home/mglen/miniconda3/envs/qi_env/lib/python3.12/site-packages (from qiskit>=0.44->qiskit-nature>=0.7.1->qiskit-nature-pyscf) (1.13.2)\n",
      "Requirement already satisfied: dill>=0.3 in /home/mglen/miniconda3/envs/qi_env/lib/python3.12/site-packages (from qiskit>=0.44->qiskit-nature>=0.7.1->qiskit-nature-pyscf) (0.3.8)\n",
      "Requirement already satisfied: python-dateutil>=2.8.0 in /home/mglen/miniconda3/envs/qi_env/lib/python3.12/site-packages (from qiskit>=0.44->qiskit-nature>=0.7.1->qiskit-nature-pyscf) (2.9.0.post0)\n",
      "Requirement already satisfied: stevedore>=3.0.0 in /home/mglen/miniconda3/envs/qi_env/lib/python3.12/site-packages (from qiskit>=0.44->qiskit-nature>=0.7.1->qiskit-nature-pyscf) (5.3.0)\n",
      "Requirement already satisfied: symengine>=0.11 in /home/mglen/miniconda3/envs/qi_env/lib/python3.12/site-packages (from qiskit>=0.44->qiskit-nature>=0.7.1->qiskit-nature-pyscf) (0.11.0)\n",
      "Requirement already satisfied: six>=1.5 in /home/mglen/miniconda3/envs/qi_env/lib/python3.12/site-packages (from python-dateutil>=2.8.0->qiskit>=0.44->qiskit-nature>=0.7.1->qiskit-nature-pyscf) (1.16.0)\n",
      "Requirement already satisfied: pbr>=2.0.0 in /home/mglen/miniconda3/envs/qi_env/lib/python3.12/site-packages (from stevedore>=3.0.0->qiskit>=0.44->qiskit-nature>=0.7.1->qiskit-nature-pyscf) (6.1.0)\n",
      "Requirement already satisfied: mpmath<1.4,>=1.1.0 in /home/mglen/miniconda3/envs/qi_env/lib/python3.12/site-packages (from sympy>=1.3->qiskit>=0.44->qiskit-nature>=0.7.1->qiskit-nature-pyscf) (1.3.0)\n",
      "Note: you may need to restart the kernel to use updated packages.\n"
     ]
    }
   ],
   "source": [
    "pip install qiskit-nature-pyscf"
   ]
  },
  {
   "cell_type": "code",
   "execution_count": 6,
   "id": "69098dfb-b36f-4214-abf7-bb68d8dac52d",
   "metadata": {},
   "outputs": [],
   "source": [
    "from qiskit_nature.second_q.mappers import JordanWignerMapper\n",
    "\n",
    "from qiskit_nature.second_q.operators import FermionicOp\n",
    "\n",
    "import numpy as np\n",
    "import math"
   ]
  },
  {
   "cell_type": "code",
   "execution_count": null,
   "id": "2265187f-272c-4390-a936-5c028ccd3717",
   "metadata": {},
   "outputs": [],
   "source": [
    "m = 1.0\n",
    "g = 1.5\n",
    "a = [0, 1, 2, 3, 4, 5]\n",
    "def addN(n):\n",
    "    return list(map(lambda x: x + n, a))\n",
    "\n",
    "opLdagR = FermionicOp(\n",
    "\n",
    "    {\n",
    "        \"+_0 -_1\": 1.0,\n",
    "        \"+_2 -_3\": 1.0,\n",
    "        \"+_4 -_5\": 1.0,\n",
    "    },\n",
    ")\n",
    "\n",
    "\n",
    "op = FermionicOp(\n",
    "    {\n",
    "        #site 0\n",
    "        \"+_0 -_1\": 1.0,\n",
    "        \"+_2 -_3\": 1.0,\n",
    "        \"+_4 -_5\": 1.0,\n",
    "\n",
    "        #site a\n",
    "        \"+_6 -_7\": 1.0,\n",
    "        \"+_8 -_9\": 1.0,\n",
    "        \"+_10 -_11\": 1.0,\n",
    "\n",
    "        #site 2a\n",
    "        \"+_12 -_13\": 1.0,\n",
    "        \"+_14 -_15\": 1.0,\n",
    "        \"+_16 -_17\": 1.0,\n",
    "\n",
    "        #site 3a\n",
    "        \"+_18 -_19\": 1.0,\n",
    "        \"+_20 -_21\": 1.0,\n",
    "        \"+_22 -_23\": 1.0,\n",
    "\n",
    "        #site 4a\n",
    "        \"+_24 -_25\": 1.0,\n",
    "        \"+_26 -_27\": 1.0,\n",
    "        \"+_28 -_29\": 1.0,\n",
    "\n",
    "    },\n",
    "    \n",
    "    num_spin_orbitals = 30,\n",
    ")\n",
    "print(opLdagR + opLdagR.permute_indices(addN(6))) \n",
    "#print(m*((opR.conjugate().transpose()  opL) + (opL.conjugate().transpose() ^ opR)))\n",
    "#print((m*op) + (m*op.conjugate().transpose()))"
   ]
  },
  {
   "cell_type": "code",
   "execution_count": 15,
   "id": "284a03a2-5f98-4e77-92a0-a6774b80f575",
   "metadata": {},
   "outputs": [
    {
     "name": "stdout",
     "output_type": "stream",
     "text": [
      "Fermionic Operator\n",
      "number spin orbitals=6, number terms=6\n",
      "  1.0 * ( +_1 -_1 )\n",
      "+ 1.0 * ( +_3 -_3 )\n",
      "+ 1.0 * ( +_5 -_5 )\n",
      "+ 1.0 * ( +_4 -_4 )\n",
      "+ 1.0 * ( +_0 -_0 )\n",
      "+ 1.0 * ( +_2 -_2 )\n",
      "Fermionic Operator\n",
      "number spin orbitals=6, number terms=6\n",
      "  1.0 * ( +_0 -_1 )\n",
      "+ 1.0 * ( +_2 -_3 )\n",
      "+ 1.0 * ( +_4 -_5 )\n",
      "+ 1.0 * ( +_3 -_2 )\n",
      "+ 1.0 * ( +_5 -_4 )\n",
      "+ 1.0 * ( +_1 -_0 )\n",
      "Fermionic Operator\n",
      "number spin orbitals=6, number terms=18\n",
      "  (1-1j) * ( +_1 -_3 )\n",
      "+ (1+1j) * ( +_3 -_1 )\n",
      "+ 1.5773502691896257 * ( +_1 -_1 )\n",
      "+ -0.42264973081037416 * ( +_3 -_3 )\n",
      "+ (1-1j) * ( +_1 -_5 )\n",
      "+ (1+1j) * ( +_5 -_1 )\n",
      "+ (1-1j) * ( +_3 -_5 )\n",
      "+ (1+1j) * ( +_5 -_3 )\n",
      "+ -1.1547005383792517 * ( +_5 -_5 )\n",
      "+ 1.1547005383792517 * ( +_4 -_4 )\n",
      "+ (-1+1j) * ( +_2 -_4 )\n",
      "+ -1.5773502691896257 * ( +_0 -_0 )\n",
      "+ (-1-1j) * ( +_4 -_0 )\n",
      "+ (-1-1j) * ( +_4 -_2 )\n",
      "+ (-1-1j) * ( +_2 -_0 )\n",
      "+ 0.42264973081037416 * ( +_2 -_2 )\n",
      "+ (-1+1j) * ( +_0 -_2 )\n",
      "+ (-1+1j) * ( +_0 -_4 )\n"
     ]
    }
   ],
   "source": [
    "L = np.array([[1], [3], [5]])\n",
    "R = np.array([[0], [2], [4]])\n",
    "a = [1, 3, 3, 1, 1, 1, 3, 3, 1, 5, 5, 1, 3, 5, 5, 3, 5, 5]\n",
    "def addN(n):\n",
    "    return list(map(lambda x: x + n, a))\n",
    "gellmann = [np.array([[0, 1, 0], [1, 0, 0], [0, 0, 0]]), np.array([[0, -1, 0], [1, 0, 0], [0, 0, 0]]),\n",
    "            np.array([[1, 0, 0], [0, -1, 0], [0, 0, 0]]), np.array([[0, 0, 1], [0, 0, 0], [1, 0, 0]]),\n",
    "            np.array([[0, 0, -1], [0, 0, 0], [1, 0, 0]]), np.array([[0, 0, 0], [0, 0, 1], [0, 1, 0]]),\n",
    "            np.array([[0, 0, 0], [0, 0, -1], [0, 1, 0]]), np.array([[1, 0, 0], [0, 1, 0], [0, 0, -2]])]\n",
    "gellmann_coeff = [1, 1j, 1, 1, 1j, 1, 1j, 1/math.sqrt(3)]\n",
    "\n",
    "op1 = FermionicOp({})\n",
    "for i in range(len(gellmann)):\n",
    "    m = gellmann[i] @ L\n",
    "    for n in range(len(m)):\n",
    "        coeff = gellmann_coeff[i]\n",
    "        if m[n][0] < 0:\n",
    "            coeff *= -1.0\n",
    "        if m[n] != 0:\n",
    "            if m[n][0] % 2 == 0:\n",
    "                coeff *= 2\n",
    "                m[n][0] = m[n][0] / 2\n",
    "            opTemp = FermionicOp({\"+_\"+str(L[n][0])+\" -_\"+str(abs(m[n][0])): coeff})\n",
    "            op1 = op1 + opTemp\n",
    "        n+=1\n",
    "    i+=1  \n",
    "\n",
    "op2 = FermionicOp({})\n",
    "for i in range(len(gellmann)):\n",
    "    m = gellmann[i] @ L\n",
    "    for n in range(len(m)):\n",
    "        coeff = gellmann_coeff[i]\n",
    "        if m[n][0] < 0:\n",
    "            coeff *= -1.0\n",
    "        if m[n] != 0:\n",
    "            if m[n][0] % 2 == 0:\n",
    "                coeff *= 2\n",
    "                m[n][0] = m[n][0] / 2\n",
    "            opTemp = FermionicOp({\"+_\"+str(L[n][0] - 1)+\" -_\"+str(abs(m[n][0]) - 1): coeff})\n",
    "            op2 = op2 + opTemp\n",
    "        n+=1\n",
    "    i+=1  \n",
    "\n",
    "\n",
    "def interactionMat(A, B):\n",
    "    op = FermionicOp({})\n",
    "    for i in range(len(A)):\n",
    "        op = op + FermionicOp({\"+_\"+str(A[i][0])+\" -_\"+str(B[i][0]): 1.0})\n",
    "    return op\n",
    "\n",
    "print (interactionMat(L, L) + interactionMat(R, R))\n",
    "print (interactionMat(R, L) + interactionMat(L, R))\n",
    "print(op1 - op2)\n"
   ]
  },
  {
   "cell_type": "code",
   "execution_count": null,
   "id": "1f938b66-fbdb-4a1f-a29f-165c5c5b448b",
   "metadata": {},
   "outputs": [],
   "source": []
  }
 ],
 "metadata": {
  "kernelspec": {
   "display_name": "Python 3 (ipykernel)",
   "language": "python",
   "name": "python3"
  },
  "language_info": {
   "codemirror_mode": {
    "name": "ipython",
    "version": 3
   },
   "file_extension": ".py",
   "mimetype": "text/x-python",
   "name": "python",
   "nbconvert_exporter": "python",
   "pygments_lexer": "ipython3",
   "version": "3.12.5"
  }
 },
 "nbformat": 4,
 "nbformat_minor": 5
}
